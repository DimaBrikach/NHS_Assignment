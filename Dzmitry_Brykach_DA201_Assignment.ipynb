{
 "cells": [
  {
   "metadata": {},
   "cell_type": "markdown",
   "source": "### Documenting the approach",
   "id": "3ea22415ffe4a6ec"
  },
  {
   "metadata": {},
   "cell_type": "markdown",
   "source": [
    "* I will start with importing and sense-checking the data.\n",
    "* After that I will prepare basic descriptive analysis to see the things as they are\n",
    "* After that I will start with diagnostic analysis of the data frame"
   ],
   "id": "97ee65e43e09d738"
  },
  {
   "metadata": {},
   "cell_type": "markdown",
   "source": [
    "### 'Import' Block\n",
    "*this cell will be used to store imported libraries and packages."
   ],
   "id": "cc1df5caf261e841"
  },
  {
   "metadata": {
    "ExecuteTime": {
     "end_time": "2025-08-07T14:13:56.700109Z",
     "start_time": "2025-08-07T14:13:56.691019Z"
    }
   },
   "cell_type": "code",
   "source": [
    "import pandas as pd\n",
    "import numpy as np\n",
    "import matplotlib.pyplot as plt\n",
    "import seaborn as sns"
   ],
   "id": "ef9faba0a7ae80c6",
   "outputs": [],
   "execution_count": 1
  },
  {
   "metadata": {},
   "cell_type": "markdown",
   "source": "### importing the first data frame \"Appointments Duration\" and doing sense-check",
   "id": "4337e33d2acb4adb"
  },
  {
   "metadata": {
    "ExecuteTime": {
     "end_time": "2025-08-07T14:13:57.015380Z",
     "start_time": "2025-08-07T14:13:56.724705Z"
    }
   },
   "cell_type": "code",
   "source": [
    "appts_duration = pd.read_csv('actual_duration.csv')\n",
    "appts_duration.head()"
   ],
   "id": "dd91e524da5f44ee",
   "outputs": [
    {
     "data": {
      "text/plain": [
       "  sub_icb_location_code sub_icb_location_ons_code  \\\n",
       "0                   00L                 E38000130   \n",
       "1                   00L                 E38000130   \n",
       "2                   00L                 E38000130   \n",
       "3                   00L                 E38000130   \n",
       "4                   00L                 E38000130   \n",
       "\n",
       "                        sub_icb_location_name icb_ons_code region_ons_code  \\\n",
       "0  NHS North East and North Cumbria ICB - 00L    E54000050       E40000012   \n",
       "1  NHS North East and North Cumbria ICB - 00L    E54000050       E40000012   \n",
       "2  NHS North East and North Cumbria ICB - 00L    E54000050       E40000012   \n",
       "3  NHS North East and North Cumbria ICB - 00L    E54000050       E40000012   \n",
       "4  NHS North East and North Cumbria ICB - 00L    E54000050       E40000012   \n",
       "\n",
       "  appointment_date         actual_duration  count_of_appointments  \n",
       "0        01-Dec-21           31-60 Minutes                    364  \n",
       "1        01-Dec-21           21-30 Minutes                    619  \n",
       "2        01-Dec-21            6-10 Minutes                   1698  \n",
       "3        01-Dec-21  Unknown / Data Quality                   1277  \n",
       "4        01-Dec-21           16-20 Minutes                    730  "
      ],
      "text/html": [
       "<div>\n",
       "<style scoped>\n",
       "    .dataframe tbody tr th:only-of-type {\n",
       "        vertical-align: middle;\n",
       "    }\n",
       "\n",
       "    .dataframe tbody tr th {\n",
       "        vertical-align: top;\n",
       "    }\n",
       "\n",
       "    .dataframe thead th {\n",
       "        text-align: right;\n",
       "    }\n",
       "</style>\n",
       "<table border=\"1\" class=\"dataframe\">\n",
       "  <thead>\n",
       "    <tr style=\"text-align: right;\">\n",
       "      <th></th>\n",
       "      <th>sub_icb_location_code</th>\n",
       "      <th>sub_icb_location_ons_code</th>\n",
       "      <th>sub_icb_location_name</th>\n",
       "      <th>icb_ons_code</th>\n",
       "      <th>region_ons_code</th>\n",
       "      <th>appointment_date</th>\n",
       "      <th>actual_duration</th>\n",
       "      <th>count_of_appointments</th>\n",
       "    </tr>\n",
       "  </thead>\n",
       "  <tbody>\n",
       "    <tr>\n",
       "      <th>0</th>\n",
       "      <td>00L</td>\n",
       "      <td>E38000130</td>\n",
       "      <td>NHS North East and North Cumbria ICB - 00L</td>\n",
       "      <td>E54000050</td>\n",
       "      <td>E40000012</td>\n",
       "      <td>01-Dec-21</td>\n",
       "      <td>31-60 Minutes</td>\n",
       "      <td>364</td>\n",
       "    </tr>\n",
       "    <tr>\n",
       "      <th>1</th>\n",
       "      <td>00L</td>\n",
       "      <td>E38000130</td>\n",
       "      <td>NHS North East and North Cumbria ICB - 00L</td>\n",
       "      <td>E54000050</td>\n",
       "      <td>E40000012</td>\n",
       "      <td>01-Dec-21</td>\n",
       "      <td>21-30 Minutes</td>\n",
       "      <td>619</td>\n",
       "    </tr>\n",
       "    <tr>\n",
       "      <th>2</th>\n",
       "      <td>00L</td>\n",
       "      <td>E38000130</td>\n",
       "      <td>NHS North East and North Cumbria ICB - 00L</td>\n",
       "      <td>E54000050</td>\n",
       "      <td>E40000012</td>\n",
       "      <td>01-Dec-21</td>\n",
       "      <td>6-10 Minutes</td>\n",
       "      <td>1698</td>\n",
       "    </tr>\n",
       "    <tr>\n",
       "      <th>3</th>\n",
       "      <td>00L</td>\n",
       "      <td>E38000130</td>\n",
       "      <td>NHS North East and North Cumbria ICB - 00L</td>\n",
       "      <td>E54000050</td>\n",
       "      <td>E40000012</td>\n",
       "      <td>01-Dec-21</td>\n",
       "      <td>Unknown / Data Quality</td>\n",
       "      <td>1277</td>\n",
       "    </tr>\n",
       "    <tr>\n",
       "      <th>4</th>\n",
       "      <td>00L</td>\n",
       "      <td>E38000130</td>\n",
       "      <td>NHS North East and North Cumbria ICB - 00L</td>\n",
       "      <td>E54000050</td>\n",
       "      <td>E40000012</td>\n",
       "      <td>01-Dec-21</td>\n",
       "      <td>16-20 Minutes</td>\n",
       "      <td>730</td>\n",
       "    </tr>\n",
       "  </tbody>\n",
       "</table>\n",
       "</div>"
      ]
     },
     "execution_count": 2,
     "metadata": {},
     "output_type": "execute_result"
    }
   ],
   "execution_count": 2
  },
  {
   "metadata": {
    "ExecuteTime": {
     "end_time": "2025-08-07T14:13:57.049894Z",
     "start_time": "2025-08-07T14:13:57.031480Z"
    }
   },
   "cell_type": "code",
   "source": "appts_duration.shape",
   "id": "ef20dec2b9539917",
   "outputs": [
    {
     "data": {
      "text/plain": [
       "(137793, 8)"
      ]
     },
     "execution_count": 3,
     "metadata": {},
     "output_type": "execute_result"
    }
   ],
   "execution_count": 3
  },
  {
   "metadata": {
    "ExecuteTime": {
     "end_time": "2025-08-07T14:13:57.111143Z",
     "start_time": "2025-08-07T14:13:57.103914Z"
    }
   },
   "cell_type": "code",
   "source": "appts_duration.dtypes",
   "id": "f87b84b19f55558",
   "outputs": [
    {
     "data": {
      "text/plain": [
       "sub_icb_location_code        object\n",
       "sub_icb_location_ons_code    object\n",
       "sub_icb_location_name        object\n",
       "icb_ons_code                 object\n",
       "region_ons_code              object\n",
       "appointment_date             object\n",
       "actual_duration              object\n",
       "count_of_appointments         int64\n",
       "dtype: object"
      ]
     },
     "execution_count": 4,
     "metadata": {},
     "output_type": "execute_result"
    }
   ],
   "execution_count": 4
  },
  {
   "metadata": {
    "ExecuteTime": {
     "end_time": "2025-08-07T14:13:57.194435Z",
     "start_time": "2025-08-07T14:13:57.152144Z"
    }
   },
   "cell_type": "code",
   "source": [
    "#check if there are missing values\n",
    "appts_duration.isna().sum()"
   ],
   "id": "c628782d2c4af24c",
   "outputs": [
    {
     "data": {
      "text/plain": [
       "sub_icb_location_code        0\n",
       "sub_icb_location_ons_code    0\n",
       "sub_icb_location_name        0\n",
       "icb_ons_code                 0\n",
       "region_ons_code              0\n",
       "appointment_date             0\n",
       "actual_duration              0\n",
       "count_of_appointments        0\n",
       "dtype: int64"
      ]
     },
     "execution_count": 5,
     "metadata": {},
     "output_type": "execute_result"
    }
   ],
   "execution_count": 5
  },
  {
   "metadata": {},
   "cell_type": "markdown",
   "source": "### importing the second data frame \"Appointments Regional\" and doing sense-check",
   "id": "f7f6ec64c5ec2e8b"
  },
  {
   "metadata": {
    "ExecuteTime": {
     "end_time": "2025-08-07T14:13:57.704198Z",
     "start_time": "2025-08-07T14:13:57.215699Z"
    }
   },
   "cell_type": "code",
   "source": [
    "appts_regional = pd.read_csv('appointments_regional.csv')\n",
    "appts_regional.head()"
   ],
   "id": "f691545100720075",
   "outputs": [
    {
     "data": {
      "text/plain": [
       "  icb_ons_code appointment_month appointment_status hcp_type appointment_mode  \\\n",
       "0    E54000034           2020-01           Attended       GP     Face-to-Face   \n",
       "1    E54000034           2020-01           Attended       GP     Face-to-Face   \n",
       "2    E54000034           2020-01           Attended       GP     Face-to-Face   \n",
       "3    E54000034           2020-01           Attended       GP     Face-to-Face   \n",
       "4    E54000034           2020-01           Attended       GP     Face-to-Face   \n",
       "\n",
       "  time_between_book_and_appointment  count_of_appointments  \n",
       "0                             1 Day                   8107  \n",
       "1                    15  to 21 Days                   6791  \n",
       "2                       2 to 7 Days                  20686  \n",
       "3                    22  to 28 Days                   4268  \n",
       "4                     8  to 14 Days                  11971  "
      ],
      "text/html": [
       "<div>\n",
       "<style scoped>\n",
       "    .dataframe tbody tr th:only-of-type {\n",
       "        vertical-align: middle;\n",
       "    }\n",
       "\n",
       "    .dataframe tbody tr th {\n",
       "        vertical-align: top;\n",
       "    }\n",
       "\n",
       "    .dataframe thead th {\n",
       "        text-align: right;\n",
       "    }\n",
       "</style>\n",
       "<table border=\"1\" class=\"dataframe\">\n",
       "  <thead>\n",
       "    <tr style=\"text-align: right;\">\n",
       "      <th></th>\n",
       "      <th>icb_ons_code</th>\n",
       "      <th>appointment_month</th>\n",
       "      <th>appointment_status</th>\n",
       "      <th>hcp_type</th>\n",
       "      <th>appointment_mode</th>\n",
       "      <th>time_between_book_and_appointment</th>\n",
       "      <th>count_of_appointments</th>\n",
       "    </tr>\n",
       "  </thead>\n",
       "  <tbody>\n",
       "    <tr>\n",
       "      <th>0</th>\n",
       "      <td>E54000034</td>\n",
       "      <td>2020-01</td>\n",
       "      <td>Attended</td>\n",
       "      <td>GP</td>\n",
       "      <td>Face-to-Face</td>\n",
       "      <td>1 Day</td>\n",
       "      <td>8107</td>\n",
       "    </tr>\n",
       "    <tr>\n",
       "      <th>1</th>\n",
       "      <td>E54000034</td>\n",
       "      <td>2020-01</td>\n",
       "      <td>Attended</td>\n",
       "      <td>GP</td>\n",
       "      <td>Face-to-Face</td>\n",
       "      <td>15  to 21 Days</td>\n",
       "      <td>6791</td>\n",
       "    </tr>\n",
       "    <tr>\n",
       "      <th>2</th>\n",
       "      <td>E54000034</td>\n",
       "      <td>2020-01</td>\n",
       "      <td>Attended</td>\n",
       "      <td>GP</td>\n",
       "      <td>Face-to-Face</td>\n",
       "      <td>2 to 7 Days</td>\n",
       "      <td>20686</td>\n",
       "    </tr>\n",
       "    <tr>\n",
       "      <th>3</th>\n",
       "      <td>E54000034</td>\n",
       "      <td>2020-01</td>\n",
       "      <td>Attended</td>\n",
       "      <td>GP</td>\n",
       "      <td>Face-to-Face</td>\n",
       "      <td>22  to 28 Days</td>\n",
       "      <td>4268</td>\n",
       "    </tr>\n",
       "    <tr>\n",
       "      <th>4</th>\n",
       "      <td>E54000034</td>\n",
       "      <td>2020-01</td>\n",
       "      <td>Attended</td>\n",
       "      <td>GP</td>\n",
       "      <td>Face-to-Face</td>\n",
       "      <td>8  to 14 Days</td>\n",
       "      <td>11971</td>\n",
       "    </tr>\n",
       "  </tbody>\n",
       "</table>\n",
       "</div>"
      ]
     },
     "execution_count": 6,
     "metadata": {},
     "output_type": "execute_result"
    }
   ],
   "execution_count": 6
  },
  {
   "metadata": {
    "ExecuteTime": {
     "end_time": "2025-08-07T14:13:57.744297Z",
     "start_time": "2025-08-07T14:13:57.738607Z"
    }
   },
   "cell_type": "code",
   "source": "appts_regional.shape",
   "id": "81a8d98b142fb7de",
   "outputs": [
    {
     "data": {
      "text/plain": [
       "(596821, 7)"
      ]
     },
     "execution_count": 7,
     "metadata": {},
     "output_type": "execute_result"
    }
   ],
   "execution_count": 7
  },
  {
   "metadata": {
    "ExecuteTime": {
     "end_time": "2025-08-07T14:13:57.815891Z",
     "start_time": "2025-08-07T14:13:57.810291Z"
    }
   },
   "cell_type": "code",
   "source": "appts_regional.dtypes",
   "id": "574392c6013ffe6e",
   "outputs": [
    {
     "data": {
      "text/plain": [
       "icb_ons_code                         object\n",
       "appointment_month                    object\n",
       "appointment_status                   object\n",
       "hcp_type                             object\n",
       "appointment_mode                     object\n",
       "time_between_book_and_appointment    object\n",
       "count_of_appointments                 int64\n",
       "dtype: object"
      ]
     },
     "execution_count": 8,
     "metadata": {},
     "output_type": "execute_result"
    }
   ],
   "execution_count": 8
  },
  {
   "metadata": {
    "ExecuteTime": {
     "end_time": "2025-08-07T14:13:57.985893Z",
     "start_time": "2025-08-07T14:13:57.873781Z"
    }
   },
   "cell_type": "code",
   "source": [
    "#check if there are missing values\n",
    "appts_regional.isna().sum()"
   ],
   "id": "381b7d4770b776ae",
   "outputs": [
    {
     "data": {
      "text/plain": [
       "icb_ons_code                         0\n",
       "appointment_month                    0\n",
       "appointment_status                   0\n",
       "hcp_type                             0\n",
       "appointment_mode                     0\n",
       "time_between_book_and_appointment    0\n",
       "count_of_appointments                0\n",
       "dtype: int64"
      ]
     },
     "execution_count": 9,
     "metadata": {},
     "output_type": "execute_result"
    }
   ],
   "execution_count": 9
  },
  {
   "metadata": {
    "ExecuteTime": {
     "end_time": "2025-08-07T14:13:58.003669Z",
     "start_time": "2025-08-07T14:13:57.997887Z"
    }
   },
   "cell_type": "code",
   "source": "appts_regional.shape",
   "id": "af6e895e85a6a223",
   "outputs": [
    {
     "data": {
      "text/plain": [
       "(596821, 7)"
      ]
     },
     "execution_count": 10,
     "metadata": {},
     "output_type": "execute_result"
    }
   ],
   "execution_count": 10
  },
  {
   "metadata": {},
   "cell_type": "markdown",
   "source": "### importing the third data frame \"National Categories\" and doing sense-check",
   "id": "4fa7dbd6509f325f"
  },
  {
   "metadata": {
    "ExecuteTime": {
     "end_time": "2025-08-07T14:16:19.103388Z",
     "start_time": "2025-08-07T14:15:14.973659Z"
    }
   },
   "cell_type": "code",
   "source": [
    "categories = pd.read_excel('national_categories.xlsx')\n",
    "categories.head()"
   ],
   "id": "ac13b8788f168eda",
   "outputs": [
    {
     "data": {
      "text/plain": [
       "  appointment_date icb_ons_code                       sub_icb_location_name  \\\n",
       "0       2021-08-02    E54000050  NHS North East and North Cumbria ICB - 00L   \n",
       "1       2021-08-02    E54000050  NHS North East and North Cumbria ICB - 00L   \n",
       "2       2021-08-02    E54000050  NHS North East and North Cumbria ICB - 00L   \n",
       "3       2021-08-02    E54000050  NHS North East and North Cumbria ICB - 00L   \n",
       "4       2021-08-02    E54000050  NHS North East and North Cumbria ICB - 00L   \n",
       "\n",
       "        service_setting            context_type  \\\n",
       "0  Primary Care Network  Care Related Encounter   \n",
       "1                 Other  Care Related Encounter   \n",
       "2      General Practice  Care Related Encounter   \n",
       "3      General Practice  Care Related Encounter   \n",
       "4      General Practice  Care Related Encounter   \n",
       "\n",
       "                        national_category  count_of_appointments  \\\n",
       "0  Patient contact during Care Home Round                      3   \n",
       "1                         Planned Clinics                      7   \n",
       "2                              Home Visit                     79   \n",
       "3              General Consultation Acute                    725   \n",
       "4            Structured Medication Review                      2   \n",
       "\n",
       "  appointment_month  \n",
       "0           2021-08  \n",
       "1           2021-08  \n",
       "2           2021-08  \n",
       "3           2021-08  \n",
       "4           2021-08  "
      ],
      "text/html": [
       "<div>\n",
       "<style scoped>\n",
       "    .dataframe tbody tr th:only-of-type {\n",
       "        vertical-align: middle;\n",
       "    }\n",
       "\n",
       "    .dataframe tbody tr th {\n",
       "        vertical-align: top;\n",
       "    }\n",
       "\n",
       "    .dataframe thead th {\n",
       "        text-align: right;\n",
       "    }\n",
       "</style>\n",
       "<table border=\"1\" class=\"dataframe\">\n",
       "  <thead>\n",
       "    <tr style=\"text-align: right;\">\n",
       "      <th></th>\n",
       "      <th>appointment_date</th>\n",
       "      <th>icb_ons_code</th>\n",
       "      <th>sub_icb_location_name</th>\n",
       "      <th>service_setting</th>\n",
       "      <th>context_type</th>\n",
       "      <th>national_category</th>\n",
       "      <th>count_of_appointments</th>\n",
       "      <th>appointment_month</th>\n",
       "    </tr>\n",
       "  </thead>\n",
       "  <tbody>\n",
       "    <tr>\n",
       "      <th>0</th>\n",
       "      <td>2021-08-02</td>\n",
       "      <td>E54000050</td>\n",
       "      <td>NHS North East and North Cumbria ICB - 00L</td>\n",
       "      <td>Primary Care Network</td>\n",
       "      <td>Care Related Encounter</td>\n",
       "      <td>Patient contact during Care Home Round</td>\n",
       "      <td>3</td>\n",
       "      <td>2021-08</td>\n",
       "    </tr>\n",
       "    <tr>\n",
       "      <th>1</th>\n",
       "      <td>2021-08-02</td>\n",
       "      <td>E54000050</td>\n",
       "      <td>NHS North East and North Cumbria ICB - 00L</td>\n",
       "      <td>Other</td>\n",
       "      <td>Care Related Encounter</td>\n",
       "      <td>Planned Clinics</td>\n",
       "      <td>7</td>\n",
       "      <td>2021-08</td>\n",
       "    </tr>\n",
       "    <tr>\n",
       "      <th>2</th>\n",
       "      <td>2021-08-02</td>\n",
       "      <td>E54000050</td>\n",
       "      <td>NHS North East and North Cumbria ICB - 00L</td>\n",
       "      <td>General Practice</td>\n",
       "      <td>Care Related Encounter</td>\n",
       "      <td>Home Visit</td>\n",
       "      <td>79</td>\n",
       "      <td>2021-08</td>\n",
       "    </tr>\n",
       "    <tr>\n",
       "      <th>3</th>\n",
       "      <td>2021-08-02</td>\n",
       "      <td>E54000050</td>\n",
       "      <td>NHS North East and North Cumbria ICB - 00L</td>\n",
       "      <td>General Practice</td>\n",
       "      <td>Care Related Encounter</td>\n",
       "      <td>General Consultation Acute</td>\n",
       "      <td>725</td>\n",
       "      <td>2021-08</td>\n",
       "    </tr>\n",
       "    <tr>\n",
       "      <th>4</th>\n",
       "      <td>2021-08-02</td>\n",
       "      <td>E54000050</td>\n",
       "      <td>NHS North East and North Cumbria ICB - 00L</td>\n",
       "      <td>General Practice</td>\n",
       "      <td>Care Related Encounter</td>\n",
       "      <td>Structured Medication Review</td>\n",
       "      <td>2</td>\n",
       "      <td>2021-08</td>\n",
       "    </tr>\n",
       "  </tbody>\n",
       "</table>\n",
       "</div>"
      ]
     },
     "execution_count": 20,
     "metadata": {},
     "output_type": "execute_result"
    }
   ],
   "execution_count": 20
  },
  {
   "metadata": {
    "ExecuteTime": {
     "end_time": "2025-08-07T14:15:04.446362Z",
     "start_time": "2025-08-07T14:15:04.435427Z"
    }
   },
   "cell_type": "code",
   "source": "categories.dtypes",
   "id": "365a44ed666945dd",
   "outputs": [
    {
     "data": {
      "text/plain": [
       "appointment_date         datetime64[ns]\n",
       "icb_ons_code                     object\n",
       "sub_icb_location_name            object\n",
       "service_setting                  object\n",
       "context_type                     object\n",
       "national_category                object\n",
       "count_of_appointments             int64\n",
       "appointment_month                object\n",
       "dtype: object"
      ]
     },
     "execution_count": 12,
     "metadata": {},
     "output_type": "execute_result"
    }
   ],
   "execution_count": 12
  },
  {
   "metadata": {
    "ExecuteTime": {
     "end_time": "2025-08-07T14:15:04.510571Z",
     "start_time": "2025-08-07T14:15:04.503960Z"
    }
   },
   "cell_type": "code",
   "source": "categories.shape",
   "id": "50af76bb7cab19bb",
   "outputs": [
    {
     "data": {
      "text/plain": [
       "(817394, 8)"
      ]
     },
     "execution_count": 13,
     "metadata": {},
     "output_type": "execute_result"
    }
   ],
   "execution_count": 13
  },
  {
   "metadata": {
    "ExecuteTime": {
     "end_time": "2025-08-07T14:15:04.706292Z",
     "start_time": "2025-08-07T14:15:04.537617Z"
    }
   },
   "cell_type": "code",
   "source": "categories.isna().sum()",
   "id": "bdfd9eccc5154321",
   "outputs": [
    {
     "data": {
      "text/plain": [
       "appointment_date         0\n",
       "icb_ons_code             0\n",
       "sub_icb_location_name    0\n",
       "service_setting          0\n",
       "context_type             0\n",
       "national_category        0\n",
       "count_of_appointments    0\n",
       "appointment_month        0\n",
       "dtype: int64"
      ]
     },
     "execution_count": 14,
     "metadata": {},
     "output_type": "execute_result"
    }
   ],
   "execution_count": 14
  },
  {
   "metadata": {
    "ExecuteTime": {
     "end_time": "2025-08-07T14:15:04.785977Z",
     "start_time": "2025-08-07T14:15:04.764491Z"
    }
   },
   "cell_type": "code",
   "source": [
    "#count the appointment duration bins and total number of appointments per bin\n",
    "appts_duration['actual_duration'].value_counts()"
   ],
   "id": "11040ef747cb00f9",
   "outputs": [
    {
     "data": {
      "text/plain": [
       "actual_duration\n",
       "Unknown / Data Quality    20161\n",
       "1-5 Minutes               19909\n",
       "6-10 Minutes              19902\n",
       "11-15 Minutes             19738\n",
       "16-20 Minutes             19534\n",
       "21-30 Minutes             19452\n",
       "31-60 Minutes             19097\n",
       "Name: count, dtype: int64"
      ]
     },
     "execution_count": 16,
     "metadata": {},
     "output_type": "execute_result"
    }
   ],
   "execution_count": 16
  },
  {
   "metadata": {},
   "cell_type": "markdown",
   "source": "## Overview Section",
   "id": "4b16a9c69ef07d52"
  },
  {
   "metadata": {},
   "cell_type": "markdown",
   "source": [
    "#### Let's start with describing general things as they are.\n",
    "We will check\n",
    "* Number of service settings\n",
    "* Number of context types\n",
    "* number of national categories\n",
    "* appointment statuses\n",
    "* the total number of all appointments per location using *icb_ons code* and \"National_category.xlsx\" dataset. I will count ICBs, not GP practices, because ICB is the main unit that is used by NHS for budget and resource planning."
   ],
   "id": "c250b9276562e21a"
  },
  {
   "metadata": {
    "ExecuteTime": {
     "end_time": "2025-08-07T20:04:22.505817Z",
     "start_time": "2025-08-07T20:04:22.422853Z"
    }
   },
   "cell_type": "code",
   "source": [
    "#Count how many ICBs are there in the dataset.\n",
    "icb_count = len(categories['icb_ons_code'].value_counts())\n",
    "print(f'Total number of Integrated Care Boards: {icb_count}')"
   ],
   "id": "7281d47deadbd1a2",
   "outputs": [
    {
     "name": "stdout",
     "output_type": "stream",
     "text": [
      "Total number of Integrated Care Boards: 42\n"
     ]
    }
   ],
   "execution_count": 80
  },
  {
   "metadata": {
    "ExecuteTime": {
     "end_time": "2025-08-07T20:51:53.461591Z",
     "start_time": "2025-08-07T20:51:53.298517Z"
    }
   },
   "cell_type": "code",
   "source": [
    "#Count the number of service settings\n",
    "context_count = len(categories['context_type'].value_counts())\n",
    "print(f'Total number of Contex Types: {context_count}')\n",
    "print(f'They are: \\n {categories['context_type'].unique()}')"
   ],
   "id": "e8b41767b1a27200",
   "outputs": [
    {
     "name": "stdout",
     "output_type": "stream",
     "text": [
      "Total number of Contex Types: 3\n",
      "They are: \n",
      " ['Care Related Encounter' 'Unmapped' 'Inconsistent Mapping']\n"
     ]
    }
   ],
   "execution_count": 106
  },
  {
   "metadata": {
    "ExecuteTime": {
     "end_time": "2025-08-07T20:40:16.292877Z",
     "start_time": "2025-08-07T20:40:16.142010Z"
    }
   },
   "cell_type": "code",
   "source": [
    "service_settings_count = len(categories['service_setting'].value_counts())\n",
    "print(f'Total number of Service Settings: {service_settings_count}')\n",
    "print(f'They are: \\n {categories['service_setting'].unique()}')"
   ],
   "id": "a870bcfb1e337ea0",
   "outputs": [
    {
     "name": "stdout",
     "output_type": "stream",
     "text": [
      "Total number of Service Settings: 5\n",
      "They are: \n",
      " ['Primary Care Network' 'Other' 'General Practice' 'Unmapped'\n",
      " 'Extended Access Provision']\n"
     ]
    }
   ],
   "execution_count": 101
  },
  {
   "metadata": {
    "ExecuteTime": {
     "end_time": "2025-08-07T20:39:29.016200Z",
     "start_time": "2025-08-07T20:39:28.853517Z"
    }
   },
   "cell_type": "code",
   "source": [
    "#number of national categories\n",
    "nat_cat_count = len(categories['national_category'].value_counts())\n",
    "print(f'Total number of National Categories: {nat_cat_count}')\n",
    "print(f\"They are: \\n {categories['national_category'].unique()}\")"
   ],
   "id": "de58437a8ca56023",
   "outputs": [
    {
     "name": "stdout",
     "output_type": "stream",
     "text": [
      "Total number of National Categories: 18\n",
      "They are: \n",
      " ['Patient contact during Care Home Round' 'Planned Clinics' 'Home Visit'\n",
      " 'General Consultation Acute' 'Structured Medication Review'\n",
      " 'Care Home Visit' 'Unmapped' 'Clinical Triage'\n",
      " 'Planned Clinical Procedure' 'Inconsistent Mapping'\n",
      " 'Care Home Needs Assessment & Personalised Care and Support Planning'\n",
      " 'General Consultation Routine'\n",
      " 'Service provided by organisation external to the practice'\n",
      " 'Unplanned Clinical Activity' 'Social Prescribing Service'\n",
      " 'Non-contractual chargeable work'\n",
      " 'Group Consultation and Group Education' 'Walk-in']\n"
     ]
    }
   ],
   "execution_count": 100
  },
  {
   "metadata": {
    "ExecuteTime": {
     "end_time": "2025-08-07T20:37:46.675927Z",
     "start_time": "2025-08-07T20:37:46.563169Z"
    }
   },
   "cell_type": "code",
   "source": [
    "#count of appointment statuses in dataset\n",
    "appt_status_count = len(appts_regional['appointment_status'].value_counts())\n",
    "print(f'Total number of Appointment Statuses: {appt_status_count}')\n",
    "print(f\"They are: \\n {appts_regional['appointment_status'].unique()}\")"
   ],
   "id": "17b208b5ab037573",
   "outputs": [
    {
     "name": "stdout",
     "output_type": "stream",
     "text": [
      "Total number of Appointment Statuses: 3\n",
      "They are: \n",
      " ['Attended' 'DNA' 'Unknown']\n"
     ]
    }
   ],
   "execution_count": 97
  },
  {
   "metadata": {},
   "cell_type": "markdown",
   "source": "Let's calculate the total amount of appointment records per ICB and build the visualisation to the distribution of appointments.",
   "id": "bb0efd0f12db2918"
  },
  {
   "metadata": {
    "ExecuteTime": {
     "end_time": "2025-08-07T20:04:22.655150Z",
     "start_time": "2025-08-07T20:04:22.571667Z"
    }
   },
   "cell_type": "code",
   "source": [
    "# count all the appointments records per care board from the \"National_category\" dataset.\n",
    "appts_per_icb = categories.groupby('icb_ons_code')['count_of_appointments'].sum()\n",
    "appts_per_icb"
   ],
   "id": "eefa245b56953bcf",
   "outputs": [
    {
     "data": {
      "text/plain": [
       "icb_ons_code\n",
       "E54000008    13250311\n",
       "E54000010     5325790\n",
       "E54000011     2568487\n",
       "E54000013     4253394\n",
       "E54000015     6242530\n",
       "E54000018     4863552\n",
       "E54000019     4700180\n",
       "E54000022     6074027\n",
       "E54000023     5335653\n",
       "E54000024     4838515\n",
       "E54000025     7059966\n",
       "E54000026     5630586\n",
       "E54000027    12142390\n",
       "E54000028     6747958\n",
       "E54000029     9588891\n",
       "E54000030     7850170\n",
       "E54000031     7155030\n",
       "E54000032     9286167\n",
       "E54000034     3754540\n",
       "E54000036     3697369\n",
       "E54000037     7447758\n",
       "E54000038     3079318\n",
       "E54000039     4899508\n",
       "E54000040     5242176\n",
       "E54000041     4340449\n",
       "E54000042     9210625\n",
       "E54000043     3663418\n",
       "E54000044     8924264\n",
       "E54000048     8757248\n",
       "E54000050    16882235\n",
       "E54000051     9125945\n",
       "E54000052     4898540\n",
       "E54000053     8929398\n",
       "E54000054    14358371\n",
       "E54000055     6383746\n",
       "E54000056     5116300\n",
       "E54000057    13857900\n",
       "E54000058     5795343\n",
       "E54000059     3922181\n",
       "E54000060     6263489\n",
       "E54000061     7549415\n",
       "E54000062     7033637\n",
       "Name: count_of_appointments, dtype: int64"
      ]
     },
     "execution_count": 81,
     "metadata": {},
     "output_type": "execute_result"
    }
   ],
   "execution_count": 81
  },
  {
   "metadata": {
    "ExecuteTime": {
     "end_time": "2025-08-07T20:04:23.287856Z",
     "start_time": "2025-08-07T20:04:22.681722Z"
    }
   },
   "cell_type": "code",
   "source": [
    "appts_per_icb.sort_values().plot(kind='bar', figsize=(30,20), color='skyblue')\n",
    "plt.title = 'Number of appointments per Integrated Care Board'\n",
    "plt.xlabel = 'Count of Appointments'\n",
    "plt.ylabel = 'ICB Code'\n",
    "plt.show()\n"
   ],
   "id": "5005ca162e5c590c",
   "outputs": [
    {
     "data": {
      "text/plain": [
       "<Figure size 3000x2000 with 1 Axes>"
      ],
      "image/png": "[encoded data removed]"
     },
     "metadata": {},
     "output_type": "display_data"
    }
   ],
   "execution_count": 82
  },
  {
   "metadata": {},
   "cell_type": "markdown",
   "source": [
    "### Let's see how many appointments were missed based on \"Appointments_regional.csv\" set. We'll use *appointment_status*.\n",
    "Also, we will calculate the loss. According to HNS Fourth Valley, the cost of a missed appointment varies from £177 for GP appointment to £97 for nurse-led and £63 for Other Practice Staff respectively. Since we don't have detailed description, we will combine Other Practice Staff and Unknown together and use mean value of (97+63)/2 = £80."
   ],
   "id": "a03ab5525f7ff250"
  },
  {
   "metadata": {
    "ExecuteTime": {
     "end_time": "2025-08-07T19:54:16.385641Z",
     "start_time": "2025-08-07T19:54:15.335324Z"
    }
   },
   "cell_type": "code",
   "source": [
    "  # let's check the overall picture of the appointment statuses\n",
    "sns.countplot(x=appts_regional['appointment_status'], data=appts_regional, palette='Set3')"
   ],
   "id": "32b456b707ff1834",
   "outputs": [
    {
     "name": "stderr",
     "output_type": "stream",
     "text": [
      "C:\\Users\\Dima_B\\AppData\\Local\\Temp\\ipykernel_17568\\4176164868.py:2: FutureWarning: \n",
      "\n",
      "Passing `palette` without assigning `hue` is deprecated and will be removed in v0.14.0. Assign the `x` variable to `hue` and set `legend=False` for the same effect.\n",
      "\n",
      "  sns.countplot(x=appts_regional['appointment_status'], data=appts_regional, palette='Set3')\n"
     ]
    },
    {
     "data": {
      "text/plain": [
       "<Axes: xlabel='appointment_status', ylabel='count'>"
      ]
     },
     "execution_count": 75,
     "metadata": {},
     "output_type": "execute_result"
    },
    {
     "data": {
      "text/plain": [
       "<Figure size 640x480 with 1 Axes>"
      ],
      "image/png": "[encoded data removed]"
     },
     "metadata": {},
     "output_type": "display_data"
    }
   ],
   "execution_count": 75
  },
  {
   "metadata": {},
   "cell_type": "markdown",
   "source": [
    "We can see here that the number of appointments with 'Unknown\" status is almost equal, so we can't say exactly whether these appointments were in \"Booked\", \"Attended\" or any other status.\n",
    "Considering significant amount of the appointment with \"Unknown\" status, I would recommend to revise the reporting mechanism for more precise data collection."
   ],
   "id": "849ced595457c140"
  },
  {
   "metadata": {
    "ExecuteTime": {
     "end_time": "2025-08-07T15:45:38.116133Z",
     "start_time": "2025-08-07T15:45:38.011720Z"
    }
   },
   "cell_type": "code",
   "outputs": [
    {
     "name": "stdout",
     "output_type": "stream",
     "text": [
      "Number of missed appointments with GP: 62788\n"
     ]
    }
   ],
   "execution_count": 51,
   "source": [
    "#count the number of missed GP appointments\n",
    "missed_gp_appts = ((appts_regional['appointment_status'] == 'DNA') & (appts_regional['hcp_type']=='GP')).sum()\n",
    "print(f\"Number of missed appointments with GP: {missed_gp_appts}\")"
   ],
   "id": "e04eea4fba03a008"
  },
  {
   "metadata": {
    "ExecuteTime": {
     "end_time": "2025-08-07T20:04:47.939566Z",
     "start_time": "2025-08-07T20:04:47.747191Z"
    }
   },
   "cell_type": "code",
   "source": [
    "#calculating missed appointments for other medical staff, including 'Unknown'\n",
    "other_missed_appts = ((appts_regional['appointment_status'] == 'DNA') & ((appts_regional['hcp_type'] == 'Other Practice staff') |(appts_regional['hcp_type'] == 'Unknown'))).sum()\n",
    "print(f\"Number of missed appointments with Other Practice Staff: {other_missed_appts}\")"
   ],
   "id": "f829bb8be28d5473",
   "outputs": [
    {
     "name": "stdout",
     "output_type": "stream",
     "text": [
      "Number of missed appointments with Other Practice Staff: 100572\n"
     ]
    }
   ],
   "execution_count": 83
  },
  {
   "metadata": {
    "ExecuteTime": {
     "end_time": "2025-08-07T19:59:48.444854Z",
     "start_time": "2025-08-07T19:59:48.419742Z"
    }
   },
   "cell_type": "code",
   "source": [
    "#let's calculate the losses due to the missed appointments.\n",
    "\n",
    "#let's set costs as constants\n",
    "MISSED_GP_COST = 177\n",
    "OTHER_MISSED_APPT = 80\n",
    "GP_total_loss = missed_gp_appts * MISSED_GP_COST\n",
    "Other_total_loss = other_missed_appts * OTHER_MISSED_APPT\n",
    "total_loss = GP_total_loss + Other_total_loss\n",
    "print(f'Total Loss due to the missed appointments with GP  : {GP_total_loss:,} pounds')\n",
    "print(f'Total Loss due to missed appointments with Other Practice Staff : {Other_total_loss:,} pounds')\n",
    "print(f'Total Loss due to the missed appointments : {total_loss:,} pounds')"
   ],
   "id": "cd5d9798069fd1f4",
   "outputs": [
    {
     "name": "stdout",
     "output_type": "stream",
     "text": [
      "Total Loss due to the missed appointments with GP  : 11,113,476 pounds\n",
      "Total Loss due to missed appointments with Other Practice Staff : 8,045,760 pounds\n",
      "Total Loss due to the missed appointments : 19,159,236 pounds\n"
     ]
    }
   ],
   "execution_count": 76
  },
  {
   "metadata": {},
   "cell_type": "code",
   "outputs": [],
   "execution_count": null,
   "source": "",
   "id": "d484258e9e9645cd"
  }
 ],
 "metadata": {
  "kernelspec": {
   "display_name": "Python 3",
   "language": "python",
   "name": "python3"
  },
  "language_info": {
   "codemirror_mode": {
    "name": "ipython",
    "version": 2
   },
   "file_extension": ".py",
   "mimetype": "text/x-python",
   "name": "python",
   "nbconvert_exporter": "python",
   "pygments_lexer": "ipython2",
   "version": "2.7.6"
  }
 },
 "nbformat": 4,
 "nbformat_minor": 5
}
